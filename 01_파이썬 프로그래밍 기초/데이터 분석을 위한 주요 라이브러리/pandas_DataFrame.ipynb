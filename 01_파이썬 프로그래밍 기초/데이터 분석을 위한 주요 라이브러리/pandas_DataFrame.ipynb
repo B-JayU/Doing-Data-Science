{
 "cells": [
  {
   "cell_type": "code",
   "execution_count": 1,
   "id": "d8221e69-5f52-4b50-9850-a1cffdc2b4cd",
   "metadata": {},
   "outputs": [],
   "source": [
    "# pandas : 데이터 분석 -> 데이블 형태로 처리\n",
    "# 1차원 구조 : Series , 2차원 구조 : DataFrame\n",
    "# pip install pandas"
   ]
  },
  {
   "cell_type": "code",
   "execution_count": 3,
   "id": "167c1523-c92d-4e46-9553-7c8cbc613802",
   "metadata": {},
   "outputs": [],
   "source": [
    "import pandas as pd"
   ]
  },
  {
   "cell_type": "code",
   "execution_count": 4,
   "id": "2f48ca99-ca1e-42e0-8a44-28115115a542",
   "metadata": {},
   "outputs": [
    {
     "data": {
      "text/plain": [
       "0    1반\n",
       "1    2반\n",
       "2    3반\n",
       "3    4반\n",
       "4    5반\n",
       "dtype: object"
      ]
     },
     "execution_count": 4,
     "metadata": {},
     "output_type": "execute_result"
    }
   ],
   "source": [
    "no_class = pd.Series([\"1반\", \"2반\", \"3반\", \"4반\", \"5반\"])\n",
    "no_class"
   ]
  },
  {
   "cell_type": "code",
   "execution_count": 5,
   "id": "666becb1-aab6-4df3-9f00-7c20ec3c8b67",
   "metadata": {},
   "outputs": [
    {
     "data": {
      "text/plain": [
       "{'year': [2018, 2019, 2020], 'sales': [250, 480, 1099]}"
      ]
     },
     "execution_count": 5,
     "metadata": {},
     "output_type": "execute_result"
    }
   ],
   "source": [
    "data_dic = { 'year':[2018, 2019, 2020], 'sales':[250, 480, 1099]}\n",
    "data_dic"
   ]
  },
  {
   "cell_type": "code",
   "execution_count": 6,
   "id": "6e402bfc-fcb3-42af-8676-b306da67e1e8",
   "metadata": {},
   "outputs": [
    {
     "data": {
      "text/html": [
       "<div>\n",
       "<style scoped>\n",
       "    .dataframe tbody tr th:only-of-type {\n",
       "        vertical-align: middle;\n",
       "    }\n",
       "\n",
       "    .dataframe tbody tr th {\n",
       "        vertical-align: top;\n",
       "    }\n",
       "\n",
       "    .dataframe thead th {\n",
       "        text-align: right;\n",
       "    }\n",
       "</style>\n",
       "<table border=\"1\" class=\"dataframe\">\n",
       "  <thead>\n",
       "    <tr style=\"text-align: right;\">\n",
       "      <th></th>\n",
       "      <th>year</th>\n",
       "      <th>sales</th>\n",
       "    </tr>\n",
       "  </thead>\n",
       "  <tbody>\n",
       "    <tr>\n",
       "      <th>0</th>\n",
       "      <td>2018</td>\n",
       "      <td>250</td>\n",
       "    </tr>\n",
       "    <tr>\n",
       "      <th>1</th>\n",
       "      <td>2019</td>\n",
       "      <td>480</td>\n",
       "    </tr>\n",
       "    <tr>\n",
       "      <th>2</th>\n",
       "      <td>2020</td>\n",
       "      <td>1099</td>\n",
       "    </tr>\n",
       "  </tbody>\n",
       "</table>\n",
       "</div>"
      ],
      "text/plain": [
       "   year  sales\n",
       "0  2018    250\n",
       "1  2019    480\n",
       "2  2020   1099"
      ]
     },
     "execution_count": 6,
     "metadata": {},
     "output_type": "execute_result"
    }
   ],
   "source": [
    "df1 = pd.DataFrame(data_dic)\n",
    "df1"
   ]
  },
  {
   "cell_type": "code",
   "execution_count": 8,
   "id": "ef379808-2f16-4e81-b4f8-e45faae031f9",
   "metadata": {},
   "outputs": [
    {
     "data": {
      "text/html": [
       "<div>\n",
       "<style scoped>\n",
       "    .dataframe tbody tr th:only-of-type {\n",
       "        vertical-align: middle;\n",
       "    }\n",
       "\n",
       "    .dataframe tbody tr th {\n",
       "        vertical-align: top;\n",
       "    }\n",
       "\n",
       "    .dataframe thead th {\n",
       "        text-align: right;\n",
       "    }\n",
       "</style>\n",
       "<table border=\"1\" class=\"dataframe\">\n",
       "  <thead>\n",
       "    <tr style=\"text-align: right;\">\n",
       "      <th></th>\n",
       "      <th>1반</th>\n",
       "      <th>2반</th>\n",
       "      <th>3반</th>\n",
       "    </tr>\n",
       "  </thead>\n",
       "  <tbody>\n",
       "    <tr>\n",
       "      <th>mid-term</th>\n",
       "      <td>89.2</td>\n",
       "      <td>92.5</td>\n",
       "      <td>90.8</td>\n",
       "    </tr>\n",
       "    <tr>\n",
       "      <th>Final-term</th>\n",
       "      <td>92.8</td>\n",
       "      <td>89.9</td>\n",
       "      <td>95.2</td>\n",
       "    </tr>\n",
       "  </tbody>\n",
       "</table>\n",
       "</div>"
      ],
      "text/plain": [
       "              1반    2반    3반\n",
       "mid-term    89.2  92.5  90.8\n",
       "Final-term  92.8  89.9  95.2"
      ]
     },
     "execution_count": 8,
     "metadata": {},
     "output_type": "execute_result"
    }
   ],
   "source": [
    "# value : ndarray, index는 row 이름, columns 은 column 이름\n",
    "df2 = pd.DataFrame([[89.2, 92.5, 90.8], [92.8, 89.9, 95.2]], index=[\"mid-term\", \"Final-term\"], columns=no_class[0:3])\n",
    "df2"
   ]
  },
  {
   "cell_type": "code",
   "execution_count": 13,
   "id": "bf5d30f5-b356-4632-9f43-9a2e22354e70",
   "metadata": {},
   "outputs": [
    {
     "data": {
      "text/html": [
       "<div>\n",
       "<style scoped>\n",
       "    .dataframe tbody tr th:only-of-type {\n",
       "        vertical-align: middle;\n",
       "    }\n",
       "\n",
       "    .dataframe tbody tr th {\n",
       "        vertical-align: top;\n",
       "    }\n",
       "\n",
       "    .dataframe thead th {\n",
       "        text-align: right;\n",
       "    }\n",
       "</style>\n",
       "<table border=\"1\" class=\"dataframe\">\n",
       "  <thead>\n",
       "    <tr style=\"text-align: right;\">\n",
       "      <th></th>\n",
       "      <th>이름</th>\n",
       "      <th>중간고사</th>\n",
       "      <th>기말고사</th>\n",
       "    </tr>\n",
       "  </thead>\n",
       "  <tbody>\n",
       "    <tr>\n",
       "      <th>2017111399</th>\n",
       "      <td>김철수</td>\n",
       "      <td>95</td>\n",
       "      <td>93</td>\n",
       "    </tr>\n",
       "    <tr>\n",
       "      <th>2017110958</th>\n",
       "      <td>이영희</td>\n",
       "      <td>90</td>\n",
       "      <td>98</td>\n",
       "    </tr>\n",
       "  </tbody>\n",
       "</table>\n",
       "</div>"
      ],
      "text/plain": [
       "             이름  중간고사  기말고사\n",
       "2017111399  김철수    95    93\n",
       "2017110958  이영희    90    98"
      ]
     },
     "execution_count": 13,
     "metadata": {},
     "output_type": "execute_result"
    }
   ],
   "source": [
    "data3 = [[\"김철수\", 95, 93], [\"이영희\", 90, 98]]\n",
    "indexing = ['2017111399', '2017110958']\n",
    "df3 = pd.DataFrame(data3, index=indexing, columns = ['이름','중간고사', '기말고사'])\n",
    "df3"
   ]
  },
  {
   "cell_type": "code",
   "execution_count": 16,
   "id": "13eea496-795f-485e-a387-6bd3b02f9253",
   "metadata": {},
   "outputs": [
    {
     "data": {
      "text/html": [
       "<div>\n",
       "<style scoped>\n",
       "    .dataframe tbody tr th:only-of-type {\n",
       "        vertical-align: middle;\n",
       "    }\n",
       "\n",
       "    .dataframe tbody tr th {\n",
       "        vertical-align: top;\n",
       "    }\n",
       "\n",
       "    .dataframe thead th {\n",
       "        text-align: right;\n",
       "    }\n",
       "</style>\n",
       "<table border=\"1\" class=\"dataframe\">\n",
       "  <thead>\n",
       "    <tr style=\"text-align: right;\">\n",
       "      <th></th>\n",
       "      <th>학번</th>\n",
       "      <th>이름</th>\n",
       "      <th>중간고사</th>\n",
       "      <th>기말고사</th>\n",
       "    </tr>\n",
       "  </thead>\n",
       "  <tbody>\n",
       "    <tr>\n",
       "      <th>0</th>\n",
       "      <td>2017111399</td>\n",
       "      <td>김철수</td>\n",
       "      <td>95</td>\n",
       "      <td>93</td>\n",
       "    </tr>\n",
       "    <tr>\n",
       "      <th>1</th>\n",
       "      <td>2017110958</td>\n",
       "      <td>이영희</td>\n",
       "      <td>90</td>\n",
       "      <td>98</td>\n",
       "    </tr>\n",
       "    <tr>\n",
       "      <th>2</th>\n",
       "      <td>2017984023</td>\n",
       "      <td>박훈이</td>\n",
       "      <td>97</td>\n",
       "      <td>76</td>\n",
       "    </tr>\n",
       "    <tr>\n",
       "      <th>3</th>\n",
       "      <td>2017256498</td>\n",
       "      <td>최유리</td>\n",
       "      <td>87</td>\n",
       "      <td>65</td>\n",
       "    </tr>\n",
       "  </tbody>\n",
       "</table>\n",
       "</div>"
      ],
      "text/plain": [
       "           학번   이름  중간고사  기말고사\n",
       "0  2017111399  김철수    95    93\n",
       "1  2017110958  이영희    90    98\n",
       "2  2017984023  박훈이    97    76\n",
       "3  2017256498  최유리    87    65"
      ]
     },
     "execution_count": 16,
     "metadata": {},
     "output_type": "execute_result"
    }
   ],
   "source": [
    "data4 = [[\"2017111399\", \"김철수\", 95, 93], [\"2017110958\",\"이영희\", 90, 98], [\"2017984023\", \"박훈이\", 97, 76], [\"2017256498\", \"최유리\", 87, 65]]\n",
    "df4 = pd.DataFrame(data4, columns=[\"학번\", \"이름\", \"중간고사\", \"기말고사\"])\n",
    "df4"
   ]
  },
  {
   "cell_type": "code",
   "execution_count": 17,
   "id": "f16f75a5-fe5c-484f-aa03-784f8278cf8f",
   "metadata": {},
   "outputs": [
    {
     "data": {
      "text/html": [
       "<div>\n",
       "<style scoped>\n",
       "    .dataframe tbody tr th:only-of-type {\n",
       "        vertical-align: middle;\n",
       "    }\n",
       "\n",
       "    .dataframe tbody tr th {\n",
       "        vertical-align: top;\n",
       "    }\n",
       "\n",
       "    .dataframe thead th {\n",
       "        text-align: right;\n",
       "    }\n",
       "</style>\n",
       "<table border=\"1\" class=\"dataframe\">\n",
       "  <thead>\n",
       "    <tr style=\"text-align: right;\">\n",
       "      <th></th>\n",
       "      <th>학번</th>\n",
       "      <th>이름</th>\n",
       "      <th>중간고사</th>\n",
       "      <th>기말고사</th>\n",
       "    </tr>\n",
       "  </thead>\n",
       "  <tbody>\n",
       "    <tr>\n",
       "      <th>0</th>\n",
       "      <td>2017111399</td>\n",
       "      <td>김철수</td>\n",
       "      <td>95</td>\n",
       "      <td>93</td>\n",
       "    </tr>\n",
       "    <tr>\n",
       "      <th>1</th>\n",
       "      <td>2017110958</td>\n",
       "      <td>이영희</td>\n",
       "      <td>90</td>\n",
       "      <td>98</td>\n",
       "    </tr>\n",
       "  </tbody>\n",
       "</table>\n",
       "</div>"
      ],
      "text/plain": [
       "           학번   이름  중간고사  기말고사\n",
       "0  2017111399  김철수    95    93\n",
       "1  2017110958  이영희    90    98"
      ]
     },
     "execution_count": 17,
     "metadata": {},
     "output_type": "execute_result"
    }
   ],
   "source": [
    "df4.head(2)"
   ]
  },
  {
   "cell_type": "code",
   "execution_count": 18,
   "id": "8b07f792-f1a2-4c43-9bc0-d86dcd735a10",
   "metadata": {},
   "outputs": [
    {
     "data": {
      "text/html": [
       "<div>\n",
       "<style scoped>\n",
       "    .dataframe tbody tr th:only-of-type {\n",
       "        vertical-align: middle;\n",
       "    }\n",
       "\n",
       "    .dataframe tbody tr th {\n",
       "        vertical-align: top;\n",
       "    }\n",
       "\n",
       "    .dataframe thead th {\n",
       "        text-align: right;\n",
       "    }\n",
       "</style>\n",
       "<table border=\"1\" class=\"dataframe\">\n",
       "  <thead>\n",
       "    <tr style=\"text-align: right;\">\n",
       "      <th></th>\n",
       "      <th>학번</th>\n",
       "      <th>이름</th>\n",
       "      <th>중간고사</th>\n",
       "      <th>기말고사</th>\n",
       "    </tr>\n",
       "  </thead>\n",
       "  <tbody>\n",
       "    <tr>\n",
       "      <th>2</th>\n",
       "      <td>2017984023</td>\n",
       "      <td>박훈이</td>\n",
       "      <td>97</td>\n",
       "      <td>76</td>\n",
       "    </tr>\n",
       "    <tr>\n",
       "      <th>3</th>\n",
       "      <td>2017256498</td>\n",
       "      <td>최유리</td>\n",
       "      <td>87</td>\n",
       "      <td>65</td>\n",
       "    </tr>\n",
       "  </tbody>\n",
       "</table>\n",
       "</div>"
      ],
      "text/plain": [
       "           학번   이름  중간고사  기말고사\n",
       "2  2017984023  박훈이    97    76\n",
       "3  2017256498  최유리    87    65"
      ]
     },
     "execution_count": 18,
     "metadata": {},
     "output_type": "execute_result"
    }
   ],
   "source": [
    "df4.tail(2)"
   ]
  },
  {
   "cell_type": "code",
   "execution_count": 19,
   "id": "195bc499-6267-4ff0-95cf-575561a92276",
   "metadata": {},
   "outputs": [
    {
     "data": {
      "text/plain": [
       "0    김철수\n",
       "1    이영희\n",
       "2    박훈이\n",
       "3    최유리\n",
       "Name: 이름, dtype: object"
      ]
     },
     "execution_count": 19,
     "metadata": {},
     "output_type": "execute_result"
    }
   ],
   "source": [
    "df4['이름']"
   ]
  },
  {
   "cell_type": "code",
   "execution_count": 20,
   "id": "233e2beb-b3eb-485b-81d1-2485f8f93956",
   "metadata": {},
   "outputs": [
    {
     "data": {
      "text/plain": [
       "0    95\n",
       "1    90\n",
       "2    97\n",
       "3    87\n",
       "Name: 중간고사, dtype: int64"
      ]
     },
     "execution_count": 20,
     "metadata": {},
     "output_type": "execute_result"
    }
   ],
   "source": [
    "df4['중간고사']"
   ]
  },
  {
   "cell_type": "code",
   "execution_count": 25,
   "id": "0fce74d1-aa60-4641-9cce-ce0216091961",
   "metadata": {},
   "outputs": [],
   "source": [
    "df4.to_csv(\"/Users/mac/Desktop/데이터 과학 기반의 파이썬 빅데이터 분석/01_파이썬 프로그래밍 기초/데이터 분석을 위한 주요 라이브러리/성적.csv\", header='True')"
   ]
  },
  {
   "cell_type": "code",
   "execution_count": 27,
   "id": "c85df43b-0afd-40c6-8132-e0d23454cf73",
   "metadata": {},
   "outputs": [
    {
     "data": {
      "text/html": [
       "<div>\n",
       "<style scoped>\n",
       "    .dataframe tbody tr th:only-of-type {\n",
       "        vertical-align: middle;\n",
       "    }\n",
       "\n",
       "    .dataframe tbody tr th {\n",
       "        vertical-align: top;\n",
       "    }\n",
       "\n",
       "    .dataframe thead th {\n",
       "        text-align: right;\n",
       "    }\n",
       "</style>\n",
       "<table border=\"1\" class=\"dataframe\">\n",
       "  <thead>\n",
       "    <tr style=\"text-align: right;\">\n",
       "      <th></th>\n",
       "      <th>학번</th>\n",
       "      <th>이름</th>\n",
       "      <th>중간고사</th>\n",
       "      <th>기말고사</th>\n",
       "    </tr>\n",
       "  </thead>\n",
       "  <tbody>\n",
       "    <tr>\n",
       "      <th>0</th>\n",
       "      <td>2017111399</td>\n",
       "      <td>김철수</td>\n",
       "      <td>95</td>\n",
       "      <td>93</td>\n",
       "    </tr>\n",
       "    <tr>\n",
       "      <th>1</th>\n",
       "      <td>2017110958</td>\n",
       "      <td>이영희</td>\n",
       "      <td>90</td>\n",
       "      <td>98</td>\n",
       "    </tr>\n",
       "    <tr>\n",
       "      <th>2</th>\n",
       "      <td>2017984023</td>\n",
       "      <td>박훈이</td>\n",
       "      <td>97</td>\n",
       "      <td>76</td>\n",
       "    </tr>\n",
       "    <tr>\n",
       "      <th>3</th>\n",
       "      <td>2017256498</td>\n",
       "      <td>최유리</td>\n",
       "      <td>87</td>\n",
       "      <td>65</td>\n",
       "    </tr>\n",
       "  </tbody>\n",
       "</table>\n",
       "</div>"
      ],
      "text/plain": [
       "           학번   이름  중간고사  기말고사\n",
       "0  2017111399  김철수    95    93\n",
       "1  2017110958  이영희    90    98\n",
       "2  2017984023  박훈이    97    76\n",
       "3  2017256498  최유리    87    65"
      ]
     },
     "execution_count": 27,
     "metadata": {},
     "output_type": "execute_result"
    }
   ],
   "source": [
    "df5 = pd.read_csv(\"/Users/mac/Desktop/데이터 과학 기반의 파이썬 빅데이터 분석/01_파이썬 프로그래밍 기초/데이터 분석을 위한 주요 라이브러리/성적.csv\", encoding='utf-8', index_col = 0, engine=\"python\")\n",
    "df5"
   ]
  },
  {
   "cell_type": "code",
   "execution_count": null,
   "id": "05823c68-4be5-426e-ad7a-6daf5c66a9f5",
   "metadata": {},
   "outputs": [],
   "source": []
  }
 ],
 "metadata": {
  "kernelspec": {
   "display_name": "Python 3 (ipykernel)",
   "language": "python",
   "name": "python3"
  },
  "language_info": {
   "codemirror_mode": {
    "name": "ipython",
    "version": 3
   },
   "file_extension": ".py",
   "mimetype": "text/x-python",
   "name": "python",
   "nbconvert_exporter": "python",
   "pygments_lexer": "ipython3",
   "version": "3.8.8"
  }
 },
 "nbformat": 4,
 "nbformat_minor": 5
}
