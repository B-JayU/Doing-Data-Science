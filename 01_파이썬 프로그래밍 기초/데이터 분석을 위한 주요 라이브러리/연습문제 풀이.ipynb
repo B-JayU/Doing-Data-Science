{
 "cells": [
  {
   "cell_type": "code",
   "execution_count": 2,
   "id": "ef6dc2a1",
   "metadata": {},
   "outputs": [],
   "source": [
    "#01"
   ]
  },
  {
   "cell_type": "code",
   "execution_count": 3,
   "id": "473138e6",
   "metadata": {},
   "outputs": [],
   "source": [
    "str = '20201231Thursday'"
   ]
  },
  {
   "cell_type": "code",
   "execution_count": 4,
   "id": "f18d523d",
   "metadata": {},
   "outputs": [
    {
     "data": {
      "text/plain": [
       "'2020'"
      ]
     },
     "execution_count": 4,
     "metadata": {},
     "output_type": "execute_result"
    }
   ],
   "source": [
    "year = str[0:4]\n",
    "year"
   ]
  },
  {
   "cell_type": "code",
   "execution_count": 5,
   "id": "68ed39c8",
   "metadata": {},
   "outputs": [
    {
     "data": {
      "text/plain": [
       "'1231'"
      ]
     },
     "execution_count": 5,
     "metadata": {},
     "output_type": "execute_result"
    }
   ],
   "source": [
    "mmdd = str[4:8]\n",
    "mmdd"
   ]
  },
  {
   "cell_type": "code",
   "execution_count": 6,
   "id": "953ced5d",
   "metadata": {},
   "outputs": [
    {
     "data": {
      "text/plain": [
       "'Thursday'"
      ]
     },
     "execution_count": 6,
     "metadata": {},
     "output_type": "execute_result"
    }
   ],
   "source": [
    "day = str[8:]\n",
    "day"
   ]
  },
  {
   "cell_type": "code",
   "execution_count": 7,
   "id": "0282cca0",
   "metadata": {},
   "outputs": [],
   "source": [
    "#02"
   ]
  },
  {
   "cell_type": "code",
   "execution_count": 8,
   "id": "8441938e",
   "metadata": {},
   "outputs": [
    {
     "data": {
      "text/plain": [
       "['통', '기', '레', '쓰']"
      ]
     },
     "execution_count": 8,
     "metadata": {},
     "output_type": "execute_result"
    }
   ],
   "source": [
    "a = ['쓰', '레', '기', '통']\n",
    "a.reverse()\n",
    "a"
   ]
  },
  {
   "cell_type": "code",
   "execution_count": 9,
   "id": "41013222",
   "metadata": {},
   "outputs": [],
   "source": [
    "#03"
   ]
  },
  {
   "cell_type": "code",
   "execution_count": 10,
   "id": "7b9acdc7",
   "metadata": {},
   "outputs": [],
   "source": [
    "dic = {'year':2020, 'mm':12, 'dd':31, 'day' : 'Thursday', 'weather' : 'snow'}"
   ]
  },
  {
   "cell_type": "code",
   "execution_count": 11,
   "id": "419696cb",
   "metadata": {},
   "outputs": [
    {
     "data": {
      "text/plain": [
       "dict_keys(['year', 'mm', 'dd', 'day', 'weather'])"
      ]
     },
     "execution_count": 11,
     "metadata": {},
     "output_type": "execute_result"
    }
   ],
   "source": [
    "dic.keys()"
   ]
  },
  {
   "cell_type": "code",
   "execution_count": 12,
   "id": "5731cb10",
   "metadata": {},
   "outputs": [
    {
     "data": {
      "text/plain": [
       "dict_values([2020, 12, 31, 'Thursday', 'snow'])"
      ]
     },
     "execution_count": 12,
     "metadata": {},
     "output_type": "execute_result"
    }
   ],
   "source": [
    "dic.values()"
   ]
  },
  {
   "cell_type": "code",
   "execution_count": 13,
   "id": "25c8df5b",
   "metadata": {},
   "outputs": [],
   "source": [
    "#05"
   ]
  },
  {
   "cell_type": "code",
   "execution_count": 20,
   "id": "afa43c3e",
   "metadata": {},
   "outputs": [
    {
     "name": "stdout",
     "output_type": "stream",
     "text": [
      "*\n",
      "**\n",
      "***\n",
      "****\n",
      "*****\n"
     ]
    }
   ],
   "source": [
    "for i in range(1,6):\n",
    "    for j in range(i,i+1):\n",
    "        star = '*' * j\n",
    "        print(star)"
   ]
  },
  {
   "cell_type": "code",
   "execution_count": null,
   "id": "77a4668a",
   "metadata": {},
   "outputs": [],
   "source": [
    "#06"
   ]
  },
  {
   "cell_type": "code",
   "execution_count": 22,
   "id": "6c7ec9d6",
   "metadata": {},
   "outputs": [],
   "source": [
    "def avg(*args):\n",
    "    num = 0\n",
    "    sum = 0\n",
    "    \n",
    "    for i in args:\n",
    "        num += 1\n",
    "        sum += i\n",
    "    \n",
    "    return sum/num"
   ]
  },
  {
   "cell_type": "code",
   "execution_count": 23,
   "id": "65095a3d",
   "metadata": {},
   "outputs": [
    {
     "data": {
      "text/plain": [
       "7.25"
      ]
     },
     "execution_count": 23,
     "metadata": {},
     "output_type": "execute_result"
    }
   ],
   "source": [
    "avg(5,3,12,9)"
   ]
  },
  {
   "cell_type": "code",
   "execution_count": 25,
   "id": "cc8a99a0",
   "metadata": {},
   "outputs": [
    {
     "data": {
      "text/plain": [
       "4.3"
      ]
     },
     "execution_count": 25,
     "metadata": {},
     "output_type": "execute_result"
    }
   ],
   "source": [
    "avg(2.4, 3.2, 7.3)"
   ]
  },
  {
   "cell_type": "code",
   "execution_count": 26,
   "id": "177e182f",
   "metadata": {},
   "outputs": [
    {
     "data": {
      "text/plain": [
       "7.5"
      ]
     },
     "execution_count": 26,
     "metadata": {},
     "output_type": "execute_result"
    }
   ],
   "source": [
    "avg(10,5)"
   ]
  },
  {
   "cell_type": "code",
   "execution_count": 27,
   "id": "e501db20",
   "metadata": {},
   "outputs": [],
   "source": [
    "#07"
   ]
  },
  {
   "cell_type": "code",
   "execution_count": 28,
   "id": "33605cd0",
   "metadata": {},
   "outputs": [],
   "source": [
    "import pandas as pd"
   ]
  },
  {
   "cell_type": "code",
   "execution_count": 31,
   "id": "0fe9af23",
   "metadata": {},
   "outputs": [
    {
     "data": {
      "text/html": [
       "<div>\n",
       "<style scoped>\n",
       "    .dataframe tbody tr th:only-of-type {\n",
       "        vertical-align: middle;\n",
       "    }\n",
       "\n",
       "    .dataframe tbody tr th {\n",
       "        vertical-align: top;\n",
       "    }\n",
       "\n",
       "    .dataframe thead th {\n",
       "        text-align: right;\n",
       "    }\n",
       "</style>\n",
       "<table border=\"1\" class=\"dataframe\">\n",
       "  <thead>\n",
       "    <tr style=\"text-align: right;\">\n",
       "      <th></th>\n",
       "      <th>1분기</th>\n",
       "      <th>2분기</th>\n",
       "      <th>3분기</th>\n",
       "      <th>4분기</th>\n",
       "    </tr>\n",
       "  </thead>\n",
       "  <tbody>\n",
       "    <tr>\n",
       "      <th>2015년</th>\n",
       "      <td>500</td>\n",
       "      <td>450</td>\n",
       "      <td>520</td>\n",
       "      <td>610</td>\n",
       "    </tr>\n",
       "    <tr>\n",
       "      <th>2016년</th>\n",
       "      <td>690</td>\n",
       "      <td>700</td>\n",
       "      <td>820</td>\n",
       "      <td>900</td>\n",
       "    </tr>\n",
       "    <tr>\n",
       "      <th>2017년</th>\n",
       "      <td>1100</td>\n",
       "      <td>1030</td>\n",
       "      <td>1200</td>\n",
       "      <td>1380</td>\n",
       "    </tr>\n",
       "    <tr>\n",
       "      <th>2018년</th>\n",
       "      <td>1500</td>\n",
       "      <td>1650</td>\n",
       "      <td>1700</td>\n",
       "      <td>1850</td>\n",
       "    </tr>\n",
       "    <tr>\n",
       "      <th>2019년</th>\n",
       "      <td>1990</td>\n",
       "      <td>2020</td>\n",
       "      <td>2300</td>\n",
       "      <td>2420</td>\n",
       "    </tr>\n",
       "    <tr>\n",
       "      <th>2020년</th>\n",
       "      <td>1020</td>\n",
       "      <td>1600</td>\n",
       "      <td>2200</td>\n",
       "      <td>2550</td>\n",
       "    </tr>\n",
       "  </tbody>\n",
       "</table>\n",
       "</div>"
      ],
      "text/plain": [
       "        1분기   2분기   3분기   4분기\n",
       "2015년   500   450   520   610\n",
       "2016년   690   700   820   900\n",
       "2017년  1100  1030  1200  1380\n",
       "2018년  1500  1650  1700  1850\n",
       "2019년  1990  2020  2300  2420\n",
       "2020년  1020  1600  2200  2550"
      ]
     },
     "execution_count": 31,
     "metadata": {},
     "output_type": "execute_result"
    }
   ],
   "source": [
    "df = pd.DataFrame([[500, 450, 520, 610],\n",
    "                   [690, 700, 820, 900],\n",
    "                   [1100, 1030, 1200, 1380],\n",
    "                   [1500, 1650, 1700, 1850],\n",
    "                   [1990, 2020, 2300, 2420],\n",
    "                   [1020, 1600, 2200, 2550]], \n",
    "                  index=['2015년','2016년','2017년', '2018년', '2019년', '2020년'],\n",
    "                 columns = ['1분기', '2분기', '3분기', '4분기'])\n",
    "df"
   ]
  },
  {
   "cell_type": "code",
   "execution_count": 32,
   "id": "b0a49976",
   "metadata": {},
   "outputs": [],
   "source": [
    "df.to_csv(\"/Users/mac/Desktop/데이터 과학 기반의 파이썬 빅데이터 분석/01_파이썬 프로그래밍 기초/데이터 분석을 위한 주요 라이브러리/마케팅팀.csv\", header='False')"
   ]
  },
  {
   "cell_type": "code",
   "execution_count": 114,
   "id": "1a17bd63",
   "metadata": {},
   "outputs": [],
   "source": [
    "#08"
   ]
  },
  {
   "cell_type": "code",
   "execution_count": 115,
   "id": "17be7c6c",
   "metadata": {},
   "outputs": [],
   "source": [
    "rdf = pd.read_csv(\"/Users/mac/Desktop/데이터 과학 기반의 파이썬 빅데이터 분석/01_파이썬 프로그래밍 기초/데이터 분석을 위한 주요 라이브러리/마케팅팀.csv\", encoding=\"utf-8\", engine=\"python\", index_col=0)"
   ]
  },
  {
   "cell_type": "code",
   "execution_count": 116,
   "id": "c4783c01",
   "metadata": {},
   "outputs": [
    {
     "data": {
      "text/html": [
       "<div>\n",
       "<style scoped>\n",
       "    .dataframe tbody tr th:only-of-type {\n",
       "        vertical-align: middle;\n",
       "    }\n",
       "\n",
       "    .dataframe tbody tr th {\n",
       "        vertical-align: top;\n",
       "    }\n",
       "\n",
       "    .dataframe thead th {\n",
       "        text-align: right;\n",
       "    }\n",
       "</style>\n",
       "<table border=\"1\" class=\"dataframe\">\n",
       "  <thead>\n",
       "    <tr style=\"text-align: right;\">\n",
       "      <th></th>\n",
       "      <th>1분기</th>\n",
       "      <th>2분기</th>\n",
       "      <th>3분기</th>\n",
       "      <th>4분기</th>\n",
       "    </tr>\n",
       "  </thead>\n",
       "  <tbody>\n",
       "    <tr>\n",
       "      <th>2015년</th>\n",
       "      <td>500</td>\n",
       "      <td>450</td>\n",
       "      <td>520</td>\n",
       "      <td>610</td>\n",
       "    </tr>\n",
       "    <tr>\n",
       "      <th>2016년</th>\n",
       "      <td>690</td>\n",
       "      <td>700</td>\n",
       "      <td>820</td>\n",
       "      <td>900</td>\n",
       "    </tr>\n",
       "    <tr>\n",
       "      <th>2017년</th>\n",
       "      <td>1100</td>\n",
       "      <td>1030</td>\n",
       "      <td>1200</td>\n",
       "      <td>1380</td>\n",
       "    </tr>\n",
       "    <tr>\n",
       "      <th>2018년</th>\n",
       "      <td>1500</td>\n",
       "      <td>1650</td>\n",
       "      <td>1700</td>\n",
       "      <td>1850</td>\n",
       "    </tr>\n",
       "    <tr>\n",
       "      <th>2019년</th>\n",
       "      <td>1990</td>\n",
       "      <td>2020</td>\n",
       "      <td>2300</td>\n",
       "      <td>2420</td>\n",
       "    </tr>\n",
       "    <tr>\n",
       "      <th>2020년</th>\n",
       "      <td>1020</td>\n",
       "      <td>1600</td>\n",
       "      <td>2200</td>\n",
       "      <td>2550</td>\n",
       "    </tr>\n",
       "  </tbody>\n",
       "</table>\n",
       "</div>"
      ],
      "text/plain": [
       "        1분기   2분기   3분기   4분기\n",
       "2015년   500   450   520   610\n",
       "2016년   690   700   820   900\n",
       "2017년  1100  1030  1200  1380\n",
       "2018년  1500  1650  1700  1850\n",
       "2019년  1990  2020  2300  2420\n",
       "2020년  1020  1600  2200  2550"
      ]
     },
     "execution_count": 116,
     "metadata": {},
     "output_type": "execute_result"
    }
   ],
   "source": [
    "rdf"
   ]
  },
  {
   "cell_type": "code",
   "execution_count": 117,
   "id": "83fca00a",
   "metadata": {},
   "outputs": [],
   "source": [
    "import matplotlib.pyplot as plt"
   ]
  },
  {
   "cell_type": "code",
   "execution_count": 118,
   "id": "e7f24560",
   "metadata": {},
   "outputs": [],
   "source": [
    "x = [1,2,3,4]\n",
    "xlabel = ['first', 'second', 'third', 'fourth']"
   ]
  },
  {
   "cell_type": "code",
   "execution_count": 119,
   "id": "d9079d36",
   "metadata": {},
   "outputs": [],
   "source": [
    "y1 = rdf.iloc[0]\n",
    "y2 = rdf.iloc[1]\n",
    "y3 = rdf.iloc[2]\n",
    "y4 = rdf.iloc[3]\n",
    "y5 = rdf.iloc[4]\n",
    "y6 = rdf.iloc[5]"
   ]
  },
  {
   "cell_type": "code",
   "execution_count": 120,
   "id": "9197a7ff",
   "metadata": {},
   "outputs": [
    {
     "data": {
      "image/png": "[encoded data removed]",
      "text/plain": [
       "<Figure size 432x288 with 1 Axes>"
      ]
     },
     "metadata": {
      "needs_background": "light"
     },
     "output_type": "display_data"
    }
   ],
   "source": [
    "plt.plot(x,y1)\n",
    "plt.plot(x,y2)\n",
    "plt.plot(x,y3)\n",
    "plt.plot(x,y4)\n",
    "plt.plot(x,y5)\n",
    "plt.plot(x,y6)\n",
    "\n",
    "plt.title(\"2015-2020 Quarterly sales\")\n",
    "plt.xticks(x, xlabel, fontsize=10)\n",
    "plt.xlabel('Quarters')\n",
    "plt.ylabel('sales')\n",
    "plt.legend(['2015','2016','2017', '2018', '2019', '2020'])\n",
    "plt.show()"
   ]
  }
 ],
 "metadata": {
  "kernelspec": {
   "display_name": "Python 3 (ipykernel)",
   "language": "python",
   "name": "python3"
  },
  "language_info": {
   "codemirror_mode": {
    "name": "ipython",
    "version": 3
   },
   "file_extension": ".py",
   "mimetype": "text/x-python",
   "name": "python",
   "nbconvert_exporter": "python",
   "pygments_lexer": "ipython3",
   "version": "3.8.8"
  }
 },
 "nbformat": 4,
 "nbformat_minor": 5
}
