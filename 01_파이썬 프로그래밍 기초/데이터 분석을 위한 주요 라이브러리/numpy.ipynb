{
 "cells": [
  {
   "cell_type": "code",
   "execution_count": 1,
   "id": "5d3340da-fbc1-4435-ad2d-e5fb783a0413",
   "metadata": {},
   "outputs": [],
   "source": [
    "# numpy : 수치 데이터 -> 다차원 배열 구조 ndarray, 행렬 연산\n",
    "# pip install numpy"
   ]
  },
  {
   "cell_type": "code",
   "execution_count": null,
   "id": "6824c8ed-b506-4ee6-809b-c33e97d74581",
   "metadata": {},
   "outputs": [],
   "source": [
    "import numpy as np"
   ]
  },
  {
   "cell_type": "code",
   "execution_count": 3,
   "id": "67c198fd-832f-4ae9-a483-7dfecede8461",
   "metadata": {},
   "outputs": [
    {
     "data": {
      "text/plain": [
       "'1.21.4'"
      ]
     },
     "execution_count": 3,
     "metadata": {},
     "output_type": "execute_result"
    }
   ],
   "source": [
    "np.__version__"
   ]
  },
  {
   "cell_type": "code",
   "execution_count": 8,
   "id": "3ad494b9-cfac-47f0-b259-c434baf9124c",
   "metadata": {},
   "outputs": [
    {
     "data": {
      "text/plain": [
       "array([1, 2, 3, 4, 5])"
      ]
     },
     "execution_count": 8,
     "metadata": {},
     "output_type": "execute_result"
    }
   ],
   "source": [
    "#list를 numpy array로 변환\n",
    "ar1 = np.array([1,2,3,4,5])\n",
    "ar1"
   ]
  },
  {
   "cell_type": "code",
   "execution_count": 17,
   "id": "4d87e3a8-8c60-4409-b8a4-ae0a7affdda9",
   "metadata": {},
   "outputs": [
    {
     "data": {
      "text/plain": [
       "(5,)"
      ]
     },
     "execution_count": 17,
     "metadata": {},
     "output_type": "execute_result"
    }
   ],
   "source": [
    "ar1.shape"
   ]
  },
  {
   "cell_type": "code",
   "execution_count": 9,
   "id": "3d9abfef-ea44-40f9-8dba-3475fcd9160c",
   "metadata": {},
   "outputs": [
    {
     "data": {
      "text/plain": [
       "numpy.ndarray"
      ]
     },
     "execution_count": 9,
     "metadata": {},
     "output_type": "execute_result"
    }
   ],
   "source": [
    "type(ar1)"
   ]
  },
  {
   "cell_type": "code",
   "execution_count": 12,
   "id": "f22e2448-3213-42fe-b68c-bee447ad5267",
   "metadata": {},
   "outputs": [
    {
     "data": {
      "text/plain": [
       "array([[10, 20, 30],\n",
       "       [40, 50, 60]])"
      ]
     },
     "execution_count": 12,
     "metadata": {},
     "output_type": "execute_result"
    }
   ],
   "source": [
    "ar2 = np.array([[10,20,30], [40,50,60]])\n",
    "ar2"
   ]
  },
  {
   "cell_type": "code",
   "execution_count": 18,
   "id": "32ada0c8-5229-4e6f-8519-4d3f49dd8abb",
   "metadata": {},
   "outputs": [
    {
     "data": {
      "text/plain": [
       "(2, 3)"
      ]
     },
     "execution_count": 18,
     "metadata": {},
     "output_type": "execute_result"
    }
   ],
   "source": [
    "ar2.shape"
   ]
  },
  {
   "cell_type": "code",
   "execution_count": 20,
   "id": "585c5b48-cbb3-4cb0-a718-389790717e76",
   "metadata": {},
   "outputs": [
    {
     "data": {
      "text/plain": [
       "array([1, 3, 5, 7, 9])"
      ]
     },
     "execution_count": 20,
     "metadata": {},
     "output_type": "execute_result"
    }
   ],
   "source": [
    "ar3 = np.arange(1,11,2)\n",
    "ar3"
   ]
  },
  {
   "cell_type": "code",
   "execution_count": 22,
   "id": "c528f2b9-1c54-4f63-8f36-eb6619626ef6",
   "metadata": {},
   "outputs": [
    {
     "data": {
      "text/plain": [
       "array([[1, 2],\n",
       "       [3, 4],\n",
       "       [5, 6]])"
      ]
     },
     "execution_count": 22,
     "metadata": {},
     "output_type": "execute_result"
    }
   ],
   "source": [
    "ar4 = np.array([1,2,3,4,5,6]).reshape((3,2))\n",
    "ar4"
   ]
  },
  {
   "cell_type": "code",
   "execution_count": 23,
   "id": "c1e4ca68-f67e-4bee-bcd1-6dc5c8eb53d9",
   "metadata": {},
   "outputs": [
    {
     "data": {
      "text/plain": [
       "array([[0., 0., 0.],\n",
       "       [0., 0., 0.]])"
      ]
     },
     "execution_count": 23,
     "metadata": {},
     "output_type": "execute_result"
    }
   ],
   "source": [
    "ar5 = np.zeros((2,3))\n",
    "ar5"
   ]
  },
  {
   "cell_type": "code",
   "execution_count": 24,
   "id": "bd7fed06-851b-45dd-acb2-666784c3e5d3",
   "metadata": {},
   "outputs": [
    {
     "data": {
      "text/plain": [
       "array([[10, 20],\n",
       "       [40, 50]])"
      ]
     },
     "execution_count": 24,
     "metadata": {},
     "output_type": "execute_result"
    }
   ],
   "source": [
    "ar6 = ar2[0:2,0:2]\n",
    "ar6"
   ]
  },
  {
   "cell_type": "code",
   "execution_count": 25,
   "id": "2b46f55c-07ce-4f4b-8eb1-c2683be87c9d",
   "metadata": {},
   "outputs": [
    {
     "data": {
      "text/plain": [
       "array([10, 20, 30])"
      ]
     },
     "execution_count": 25,
     "metadata": {},
     "output_type": "execute_result"
    }
   ],
   "source": [
    "ar7 = ar2[0,:]\n",
    "ar7"
   ]
  },
  {
   "cell_type": "code",
   "execution_count": 27,
   "id": "d4056b70-6b60-49ca-92a3-29b894a21138",
   "metadata": {},
   "outputs": [
    {
     "data": {
      "text/plain": [
       "array([11, 12, 13, 14, 15])"
      ]
     },
     "execution_count": 27,
     "metadata": {},
     "output_type": "execute_result"
    }
   ],
   "source": [
    "ar8 = ar1+10\n",
    "ar8"
   ]
  },
  {
   "cell_type": "code",
   "execution_count": 28,
   "id": "819ac0f3-9fa5-4571-85b8-ecb12c130dd2",
   "metadata": {},
   "outputs": [
    {
     "data": {
      "text/plain": [
       "array([10, 10, 10, 10, 10])"
      ]
     },
     "execution_count": 28,
     "metadata": {},
     "output_type": "execute_result"
    }
   ],
   "source": [
    "ar8 - ar1"
   ]
  },
  {
   "cell_type": "code",
   "execution_count": 29,
   "id": "a8e58811-fe8a-466c-84a6-362b699ff3a1",
   "metadata": {},
   "outputs": [
    {
     "data": {
      "text/plain": [
       "array([ 2,  4,  6,  8, 10])"
      ]
     },
     "execution_count": 29,
     "metadata": {},
     "output_type": "execute_result"
    }
   ],
   "source": [
    "ar1 * 2"
   ]
  },
  {
   "cell_type": "code",
   "execution_count": 30,
   "id": "a7015e60-96b7-4f62-9362-9925da6483b6",
   "metadata": {},
   "outputs": [
    {
     "data": {
      "text/plain": [
       "array([0.5, 1. , 1.5, 2. , 2.5])"
      ]
     },
     "execution_count": 30,
     "metadata": {},
     "output_type": "execute_result"
    }
   ],
   "source": [
    "ar1 / 2"
   ]
  },
  {
   "cell_type": "code",
   "execution_count": 31,
   "id": "06c8689a-0fdc-463b-b03e-0a4d5074e916",
   "metadata": {},
   "outputs": [
    {
     "data": {
      "text/plain": [
       "array([[220, 280],\n",
       "       [490, 640]])"
      ]
     },
     "execution_count": 31,
     "metadata": {},
     "output_type": "execute_result"
    }
   ],
   "source": [
    "# 행렬 곱 연산\n",
    "ar9 = np.dot(ar2, ar4)\n",
    "ar9"
   ]
  },
  {
   "cell_type": "code",
   "execution_count": null,
   "id": "b89ebeb4-fb48-467e-907f-72ab82410fd1",
   "metadata": {},
   "outputs": [],
   "source": []
  }
 ],
 "metadata": {
  "kernelspec": {
   "display_name": "Python 3 (ipykernel)",
   "language": "python",
   "name": "python3"
  },
  "language_info": {
   "codemirror_mode": {
    "name": "ipython",
    "version": 3
   },
   "file_extension": ".py",
   "mimetype": "text/x-python",
   "name": "python",
   "nbconvert_exporter": "python",
   "pygments_lexer": "ipython3",
   "version": "3.8.8"
  }
 },
 "nbformat": 4,
 "nbformat_minor": 5
}
