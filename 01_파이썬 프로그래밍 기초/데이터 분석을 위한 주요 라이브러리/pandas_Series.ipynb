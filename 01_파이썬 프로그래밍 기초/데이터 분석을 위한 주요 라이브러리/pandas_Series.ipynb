{
 "cells": [
  {
   "cell_type": "code",
   "execution_count": 1,
   "id": "cd4afcc6-ee0f-4616-b63b-da25d8682a5f",
   "metadata": {},
   "outputs": [],
   "source": [
    "# pandas : 데이터 분석 -> 테이블 형식으로 처리\n",
    "# pip install pandas"
   ]
  },
  {
   "cell_type": "code",
   "execution_count": 4,
   "id": "3df60dc8-b6c2-42a2-b1b5-bb5d97c8e28e",
   "metadata": {},
   "outputs": [
    {
     "data": {
      "text/plain": [
       "'1.3.4'"
      ]
     },
     "execution_count": 4,
     "metadata": {},
     "output_type": "execute_result"
    }
   ],
   "source": [
    "import pandas as pd\n",
    "pd.__version__"
   ]
  },
  {
   "cell_type": "code",
   "execution_count": 21,
   "id": "bde30718-ec9b-4618-8244-9dc3a729b822",
   "metadata": {},
   "outputs": [],
   "source": [
    "data1 = [10, 20, 30, 40, 50]\n",
    "data2 = [\"1반\", \"2반\", \"3반\", \"4반\", \"5반\"]"
   ]
  },
  {
   "cell_type": "code",
   "execution_count": 9,
   "id": "bb957bd0-c13c-48de-90b0-9158cfc6522d",
   "metadata": {},
   "outputs": [],
   "source": [
    "# list로 부터 1차원 자료구조인 Series 생성\n",
    "sr1 = pd.Series(data1)\n",
    "sr2 = pd.Series(data2)"
   ]
  },
  {
   "cell_type": "code",
   "execution_count": 10,
   "id": "ce939a9f-620f-47b2-a637-5b562915c947",
   "metadata": {},
   "outputs": [
    {
     "data": {
      "text/plain": [
       "0    10\n",
       "1    20\n",
       "2    30\n",
       "3    40\n",
       "4    50\n",
       "dtype: int64"
      ]
     },
     "execution_count": 10,
     "metadata": {},
     "output_type": "execute_result"
    }
   ],
   "source": [
    "sr1"
   ]
  },
  {
   "cell_type": "code",
   "execution_count": 11,
   "id": "0069542d-b17b-470f-a479-575c8313f15f",
   "metadata": {},
   "outputs": [
    {
     "data": {
      "text/plain": [
       "0    1반\n",
       "1    2반\n",
       "2    3반\n",
       "3    4반\n",
       "4    5빈\n",
       "dtype: object"
      ]
     },
     "execution_count": 11,
     "metadata": {},
     "output_type": "execute_result"
    }
   ],
   "source": [
    "sr2"
   ]
  },
  {
   "cell_type": "code",
   "execution_count": 12,
   "id": "0d6ced7c-3bfa-4c0d-9478-8c5bfe5be21c",
   "metadata": {},
   "outputs": [],
   "source": [
    "sr3 = pd.Series([101, 102, 103, 104, 105])\n",
    "sr4 = pd.Series(['월', '화', '수', '목', '금'])"
   ]
  },
  {
   "cell_type": "code",
   "execution_count": 13,
   "id": "0d9b171c-da43-4696-a153-d8b94eb3b463",
   "metadata": {},
   "outputs": [
    {
     "data": {
      "text/plain": [
       "0    101\n",
       "1    102\n",
       "2    103\n",
       "3    104\n",
       "4    105\n",
       "dtype: int64"
      ]
     },
     "execution_count": 13,
     "metadata": {},
     "output_type": "execute_result"
    }
   ],
   "source": [
    "sr3"
   ]
  },
  {
   "cell_type": "code",
   "execution_count": 14,
   "id": "a1a2fa84-0e55-4077-a396-e2900f17cd9f",
   "metadata": {},
   "outputs": [
    {
     "data": {
      "text/plain": [
       "0    월\n",
       "1    화\n",
       "2    수\n",
       "3    목\n",
       "4    금\n",
       "dtype: object"
      ]
     },
     "execution_count": 14,
     "metadata": {},
     "output_type": "execute_result"
    }
   ],
   "source": [
    "sr4"
   ]
  },
  {
   "cell_type": "code",
   "execution_count": 15,
   "id": "51c99727-1089-4218-8571-ea8c2614c72a",
   "metadata": {},
   "outputs": [
    {
     "data": {
      "text/plain": [
       "1000    10\n",
       "1001    20\n",
       "1002    30\n",
       "1003    40\n",
       "1004    50\n",
       "dtype: int64"
      ]
     },
     "execution_count": 15,
     "metadata": {},
     "output_type": "execute_result"
    }
   ],
   "source": [
    "sr5 = pd.Series(data1, index= [1000, 1001, 1002, 1003, 1004])\n",
    "sr5"
   ]
  },
  {
   "cell_type": "code",
   "execution_count": 22,
   "id": "f649c146-11bb-4110-a6f5-f0b08fbe396e",
   "metadata": {},
   "outputs": [
    {
     "data": {
      "text/plain": [
       "1반    10\n",
       "2반    20\n",
       "3반    30\n",
       "4반    40\n",
       "5반    50\n",
       "dtype: int64"
      ]
     },
     "execution_count": 22,
     "metadata": {},
     "output_type": "execute_result"
    }
   ],
   "source": [
    "sr6 = pd.Series(data1, index = data2)\n",
    "sr6"
   ]
  },
  {
   "cell_type": "code",
   "execution_count": 23,
   "id": "78442b7f-592b-47e9-a30c-d5680a4b4dce",
   "metadata": {},
   "outputs": [
    {
     "data": {
      "text/plain": [
       "10    1반\n",
       "20    2반\n",
       "30    3반\n",
       "40    4반\n",
       "50    5반\n",
       "dtype: object"
      ]
     },
     "execution_count": 23,
     "metadata": {},
     "output_type": "execute_result"
    }
   ],
   "source": [
    "sr7 = pd.Series(data2, index = data1)\n",
    "sr7"
   ]
  },
  {
   "cell_type": "code",
   "execution_count": 24,
   "id": "6975f6fe-c727-4632-b164-f8f89fbf1dfc",
   "metadata": {},
   "outputs": [
    {
     "data": {
      "text/plain": [
       "월    1반\n",
       "화    2반\n",
       "수    3반\n",
       "목    4반\n",
       "금    5반\n",
       "dtype: object"
      ]
     },
     "execution_count": 24,
     "metadata": {},
     "output_type": "execute_result"
    }
   ],
   "source": [
    "sr8 = pd.Series(data2,index = sr4)\n",
    "sr8"
   ]
  },
  {
   "cell_type": "code",
   "execution_count": 25,
   "id": "fbe6b20a-0149-46ac-be26-92dd1dab90a4",
   "metadata": {},
   "outputs": [
    {
     "data": {
      "text/plain": [
       "'3반'"
      ]
     },
     "execution_count": 25,
     "metadata": {},
     "output_type": "execute_result"
    }
   ],
   "source": [
    "sr8[2]"
   ]
  },
  {
   "cell_type": "code",
   "execution_count": 26,
   "id": "2c54ecc6-291c-488d-b0b7-70f467c41676",
   "metadata": {},
   "outputs": [
    {
     "data": {
      "text/plain": [
       "'3반'"
      ]
     },
     "execution_count": 26,
     "metadata": {},
     "output_type": "execute_result"
    }
   ],
   "source": [
    "sr8['수']"
   ]
  },
  {
   "cell_type": "code",
   "execution_count": 27,
   "id": "6587dfef-a39c-40a8-87b8-5f410f81e3cc",
   "metadata": {},
   "outputs": [
    {
     "data": {
      "text/plain": [
       "'5반'"
      ]
     },
     "execution_count": 27,
     "metadata": {},
     "output_type": "execute_result"
    }
   ],
   "source": [
    "sr8[-1]"
   ]
  },
  {
   "cell_type": "code",
   "execution_count": 28,
   "id": "e3dbb0e1-f583-4547-a37d-79a5de39775a",
   "metadata": {},
   "outputs": [
    {
     "data": {
      "text/plain": [
       "월    1반\n",
       "화    2반\n",
       "수    3반\n",
       "목    4반\n",
       "dtype: object"
      ]
     },
     "execution_count": 28,
     "metadata": {},
     "output_type": "execute_result"
    }
   ],
   "source": [
    "sr8[0:4]"
   ]
  },
  {
   "cell_type": "code",
   "execution_count": 31,
   "id": "cb3de646-b4b9-404e-b26a-2fac8267b0ee",
   "metadata": {},
   "outputs": [
    {
     "data": {
      "text/plain": [
       "Index(['월', '화', '수', '목', '금'], dtype='object')"
      ]
     },
     "execution_count": 31,
     "metadata": {},
     "output_type": "execute_result"
    }
   ],
   "source": [
    "sr8.index"
   ]
  },
  {
   "cell_type": "code",
   "execution_count": 32,
   "id": "35bf1792-016e-4755-894c-81f0afa5db45",
   "metadata": {},
   "outputs": [
    {
     "data": {
      "text/plain": [
       "array(['1반', '2반', '3반', '4반', '5반'], dtype=object)"
      ]
     },
     "execution_count": 32,
     "metadata": {},
     "output_type": "execute_result"
    }
   ],
   "source": [
    "sr8.values"
   ]
  },
  {
   "cell_type": "code",
   "execution_count": 33,
   "id": "53b76eba-364d-4219-b437-abbf4161a1fb",
   "metadata": {},
   "outputs": [
    {
     "data": {
      "text/plain": [
       "0    111\n",
       "1    122\n",
       "2    133\n",
       "3    144\n",
       "4    155\n",
       "dtype: int64"
      ]
     },
     "execution_count": 33,
     "metadata": {},
     "output_type": "execute_result"
    }
   ],
   "source": [
    "sr1 + sr3"
   ]
  },
  {
   "cell_type": "code",
   "execution_count": 35,
   "id": "60606b55-7ec9-4b22-86d7-7458c0ce07f3",
   "metadata": {},
   "outputs": [
    {
     "data": {
      "text/plain": [
       "0    월1반\n",
       "1    화2반\n",
       "2    수3반\n",
       "3    목4반\n",
       "4    금5빈\n",
       "dtype: object"
      ]
     },
     "execution_count": 35,
     "metadata": {},
     "output_type": "execute_result"
    }
   ],
   "source": [
    "sr4 + sr2"
   ]
  },
  {
   "cell_type": "code",
   "execution_count": null,
   "id": "d2899cca-faa0-4bfa-ab87-9b95e661ee13",
   "metadata": {},
   "outputs": [],
   "source": []
  }
 ],
 "metadata": {
  "kernelspec": {
   "display_name": "Python 3 (ipykernel)",
   "language": "python",
   "name": "python3"
  },
  "language_info": {
   "codemirror_mode": {
    "name": "ipython",
    "version": 3
   },
   "file_extension": ".py",
   "mimetype": "text/x-python",
   "name": "python",
   "nbconvert_exporter": "python",
   "pygments_lexer": "ipython3",
   "version": "3.8.8"
  }
 },
 "nbformat": 4,
 "nbformat_minor": 5
}
